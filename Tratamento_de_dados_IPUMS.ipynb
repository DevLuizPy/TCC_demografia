{
 "cells": [
  {
   "cell_type": "code",
   "id": "initial_id",
   "metadata": {
    "collapsed": true,
    "ExecuteTime": {
     "end_time": "2024-12-27T17:08:07.655517Z",
     "start_time": "2024-12-27T17:08:05.644580Z"
    }
   },
   "source": [
    "import pandas as pd\n",
    "from pandas import DataFrame\n",
    "import matplotlib.pyplot as plt\n",
    "from matplotlib.ticker import FuncFormatter\n",
    "import moviepy.editor as mp"
   ],
   "outputs": [],
   "execution_count": 2
  },
  {
   "metadata": {
    "ExecuteTime": {
     "end_time": "2024-12-27T17:08:17.185241Z",
     "start_time": "2024-12-27T17:08:10.467632Z"
    }
   },
   "cell_type": "code",
   "source": "df_censo_2010: DataFrame = pd.read_csv(\"censo_2010.csv\")",
   "id": "5111380902347d5b",
   "outputs": [],
   "execution_count": 4
  },
  {
   "metadata": {
    "ExecuteTime": {
     "end_time": "2024-12-27T17:08:18.730932Z",
     "start_time": "2024-12-27T17:08:18.712505Z"
    }
   },
   "cell_type": "code",
   "source": "df_censo_2010",
   "id": "dd4afd9abbdbc484",
   "outputs": [
    {
     "data": {
      "text/plain": [
       "          GEO1_BR2010  GEO2_BR2010  PERWT  AGE  AGE2  SEX  RACE  EDATTAIN  \\\n",
       "0                  11        11022   8.71   22    12    1    51         2   \n",
       "1                  11        11022   8.71   17     4    2    51         2   \n",
       "2                  11        11022   9.82   38    15    1    10         2   \n",
       "3                  11        11022   9.50   54    18    1    51         1   \n",
       "4                  11        11022   9.50   44    16    2    10         1   \n",
       "...               ...          ...    ...  ...   ...  ...   ...       ...   \n",
       "20635467           53        53001  27.54   34    14    2    10         2   \n",
       "20635468           53        53001  27.54   13     3    1    51         1   \n",
       "20635469           53        53001  27.54   12     3    2    51         1   \n",
       "20635470           53        53001  27.54   66    21    1    10         1   \n",
       "20635471           53        53001  27.54    6     2    2    10         1   \n",
       "\n",
       "          EDATTAIND   INCTOT  \n",
       "0               212     1000  \n",
       "1               212        0  \n",
       "2               212     1800  \n",
       "3               110      700  \n",
       "4               120      419  \n",
       "...             ...      ...  \n",
       "20635467        212      600  \n",
       "20635468        130       65  \n",
       "20635469        130        0  \n",
       "20635470        110     1020  \n",
       "20635471        120  9999999  \n",
       "\n",
       "[20635472 rows x 10 columns]"
      ],
      "text/html": [
       "<div>\n",
       "<style scoped>\n",
       "    .dataframe tbody tr th:only-of-type {\n",
       "        vertical-align: middle;\n",
       "    }\n",
       "\n",
       "    .dataframe tbody tr th {\n",
       "        vertical-align: top;\n",
       "    }\n",
       "\n",
       "    .dataframe thead th {\n",
       "        text-align: right;\n",
       "    }\n",
       "</style>\n",
       "<table border=\"1\" class=\"dataframe\">\n",
       "  <thead>\n",
       "    <tr style=\"text-align: right;\">\n",
       "      <th></th>\n",
       "      <th>GEO1_BR2010</th>\n",
       "      <th>GEO2_BR2010</th>\n",
       "      <th>PERWT</th>\n",
       "      <th>AGE</th>\n",
       "      <th>AGE2</th>\n",
       "      <th>SEX</th>\n",
       "      <th>RACE</th>\n",
       "      <th>EDATTAIN</th>\n",
       "      <th>EDATTAIND</th>\n",
       "      <th>INCTOT</th>\n",
       "    </tr>\n",
       "  </thead>\n",
       "  <tbody>\n",
       "    <tr>\n",
       "      <th>0</th>\n",
       "      <td>11</td>\n",
       "      <td>11022</td>\n",
       "      <td>8.71</td>\n",
       "      <td>22</td>\n",
       "      <td>12</td>\n",
       "      <td>1</td>\n",
       "      <td>51</td>\n",
       "      <td>2</td>\n",
       "      <td>212</td>\n",
       "      <td>1000</td>\n",
       "    </tr>\n",
       "    <tr>\n",
       "      <th>1</th>\n",
       "      <td>11</td>\n",
       "      <td>11022</td>\n",
       "      <td>8.71</td>\n",
       "      <td>17</td>\n",
       "      <td>4</td>\n",
       "      <td>2</td>\n",
       "      <td>51</td>\n",
       "      <td>2</td>\n",
       "      <td>212</td>\n",
       "      <td>0</td>\n",
       "    </tr>\n",
       "    <tr>\n",
       "      <th>2</th>\n",
       "      <td>11</td>\n",
       "      <td>11022</td>\n",
       "      <td>9.82</td>\n",
       "      <td>38</td>\n",
       "      <td>15</td>\n",
       "      <td>1</td>\n",
       "      <td>10</td>\n",
       "      <td>2</td>\n",
       "      <td>212</td>\n",
       "      <td>1800</td>\n",
       "    </tr>\n",
       "    <tr>\n",
       "      <th>3</th>\n",
       "      <td>11</td>\n",
       "      <td>11022</td>\n",
       "      <td>9.50</td>\n",
       "      <td>54</td>\n",
       "      <td>18</td>\n",
       "      <td>1</td>\n",
       "      <td>51</td>\n",
       "      <td>1</td>\n",
       "      <td>110</td>\n",
       "      <td>700</td>\n",
       "    </tr>\n",
       "    <tr>\n",
       "      <th>4</th>\n",
       "      <td>11</td>\n",
       "      <td>11022</td>\n",
       "      <td>9.50</td>\n",
       "      <td>44</td>\n",
       "      <td>16</td>\n",
       "      <td>2</td>\n",
       "      <td>10</td>\n",
       "      <td>1</td>\n",
       "      <td>120</td>\n",
       "      <td>419</td>\n",
       "    </tr>\n",
       "    <tr>\n",
       "      <th>...</th>\n",
       "      <td>...</td>\n",
       "      <td>...</td>\n",
       "      <td>...</td>\n",
       "      <td>...</td>\n",
       "      <td>...</td>\n",
       "      <td>...</td>\n",
       "      <td>...</td>\n",
       "      <td>...</td>\n",
       "      <td>...</td>\n",
       "      <td>...</td>\n",
       "    </tr>\n",
       "    <tr>\n",
       "      <th>20635467</th>\n",
       "      <td>53</td>\n",
       "      <td>53001</td>\n",
       "      <td>27.54</td>\n",
       "      <td>34</td>\n",
       "      <td>14</td>\n",
       "      <td>2</td>\n",
       "      <td>10</td>\n",
       "      <td>2</td>\n",
       "      <td>212</td>\n",
       "      <td>600</td>\n",
       "    </tr>\n",
       "    <tr>\n",
       "      <th>20635468</th>\n",
       "      <td>53</td>\n",
       "      <td>53001</td>\n",
       "      <td>27.54</td>\n",
       "      <td>13</td>\n",
       "      <td>3</td>\n",
       "      <td>1</td>\n",
       "      <td>51</td>\n",
       "      <td>1</td>\n",
       "      <td>130</td>\n",
       "      <td>65</td>\n",
       "    </tr>\n",
       "    <tr>\n",
       "      <th>20635469</th>\n",
       "      <td>53</td>\n",
       "      <td>53001</td>\n",
       "      <td>27.54</td>\n",
       "      <td>12</td>\n",
       "      <td>3</td>\n",
       "      <td>2</td>\n",
       "      <td>51</td>\n",
       "      <td>1</td>\n",
       "      <td>130</td>\n",
       "      <td>0</td>\n",
       "    </tr>\n",
       "    <tr>\n",
       "      <th>20635470</th>\n",
       "      <td>53</td>\n",
       "      <td>53001</td>\n",
       "      <td>27.54</td>\n",
       "      <td>66</td>\n",
       "      <td>21</td>\n",
       "      <td>1</td>\n",
       "      <td>10</td>\n",
       "      <td>1</td>\n",
       "      <td>110</td>\n",
       "      <td>1020</td>\n",
       "    </tr>\n",
       "    <tr>\n",
       "      <th>20635471</th>\n",
       "      <td>53</td>\n",
       "      <td>53001</td>\n",
       "      <td>27.54</td>\n",
       "      <td>6</td>\n",
       "      <td>2</td>\n",
       "      <td>2</td>\n",
       "      <td>10</td>\n",
       "      <td>1</td>\n",
       "      <td>120</td>\n",
       "      <td>9999999</td>\n",
       "    </tr>\n",
       "  </tbody>\n",
       "</table>\n",
       "<p>20635472 rows × 10 columns</p>\n",
       "</div>"
      ]
     },
     "execution_count": 5,
     "metadata": {},
     "output_type": "execute_result"
    }
   ],
   "execution_count": 5
  },
  {
   "metadata": {
    "ExecuteTime": {
     "end_time": "2024-11-02T23:33:00.691561Z",
     "start_time": "2024-11-02T23:33:00.460574Z"
    }
   },
   "cell_type": "code",
   "source": "df_censo_2010.isnull().sum()",
   "id": "faf20b60c49ac66e",
   "outputs": [
    {
     "data": {
      "text/plain": [
       "COUNTRY        0\n",
       "YEAR           0\n",
       "SAMPLE         0\n",
       "SERIAL         0\n",
       "HHWT           0\n",
       "GEO1_BR2010    0\n",
       "GEO2_BR2010    0\n",
       "PERNUM         0\n",
       "PERWT          0\n",
       "AGE            0\n",
       "AGE2           0\n",
       "SEX            0\n",
       "RACE           0\n",
       "EDATTAIN       0\n",
       "EDATTAIND      0\n",
       "INCTOT         0\n",
       "dtype: int64"
      ]
     },
     "execution_count": 4,
     "metadata": {},
     "output_type": "execute_result"
    }
   ],
   "execution_count": 4
  },
  {
   "metadata": {},
   "cell_type": "markdown",
   "source": "Data Frame São joão de Meriti",
   "id": "cacd47513fe2a73c"
  },
  {
   "metadata": {
    "ExecuteTime": {
     "end_time": "2024-11-02T23:33:00.714383Z",
     "start_time": "2024-11-02T23:33:00.712093Z"
    }
   },
   "cell_type": "code",
   "source": "numero_sao_joao = 33006",
   "id": "7ab1ba8d15e744a9",
   "outputs": [],
   "execution_count": 5
  },
  {
   "metadata": {
    "ExecuteTime": {
     "end_time": "2024-11-02T23:33:00.748705Z",
     "start_time": "2024-11-02T23:33:00.722390Z"
    }
   },
   "cell_type": "code",
   "source": [
    "df_sao_joao = df_censo_2010[df_censo_2010['GEO2_BR2010'] == numero_sao_joao]\n",
    "df_sao_joao"
   ],
   "id": "8030deb101beb617",
   "outputs": [
    {
     "data": {
      "text/plain": [
       "          COUNTRY  YEAR    SAMPLE      SERIAL   HHWT  GEO1_BR2010  \\\n",
       "11793814       76  2010  76201001  3367458000   7.68           33   \n",
       "11793815       76  2010  76201001  3367458000   7.68           33   \n",
       "11793816       76  2010  76201001  3367458000   7.68           33   \n",
       "11793817       76  2010  76201001  3367458000   7.68           33   \n",
       "11793818       76  2010  76201001  3367458000   7.68           33   \n",
       "...           ...   ...       ...         ...    ...          ...   \n",
       "11838069       76  2010  76201001  3381580000   9.75           33   \n",
       "11838070       76  2010  76201001  3381580000   9.75           33   \n",
       "11838071       76  2010  76201001  3381581000  11.15           33   \n",
       "11838072       76  2010  76201001  3381581000  11.15           33   \n",
       "11838073       76  2010  76201001  3381582000   9.75           33   \n",
       "\n",
       "          GEO2_BR2010  PERNUM  PERWT  AGE  AGE2  SEX  RACE  EDATTAIN  \\\n",
       "11793814        33006       1   7.68   37    15    1    10         2   \n",
       "11793815        33006       2   7.68   41    16    2    10         2   \n",
       "11793816        33006       3   7.68   38    15    1    10         2   \n",
       "11793817        33006       4   7.68   39    15    1    10         2   \n",
       "11793818        33006       5   7.68   40    16    1    10         2   \n",
       "...               ...     ...    ...  ...   ...  ...   ...       ...   \n",
       "11838069        33006       4   9.75    5     2    1    51         1   \n",
       "11838070        33006       5   9.75   25    13    2    20         1   \n",
       "11838071        33006       1  11.15   42    16    2    51         2   \n",
       "11838072        33006       2  11.15   14     3    1    51         2   \n",
       "11838073        33006       1   9.75   69    21    2    51         1   \n",
       "\n",
       "          EDATTAIND   INCTOT  \n",
       "11793814        212      800  \n",
       "11793815        212      510  \n",
       "11793816        212      600  \n",
       "11793817        212      950  \n",
       "11793818        212     1200  \n",
       "...             ...      ...  \n",
       "11838069        110  9999999  \n",
       "11838070        120      200  \n",
       "11838071        221     1530  \n",
       "11838072        212      510  \n",
       "11838073        120      510  \n",
       "\n",
       "[44260 rows x 16 columns]"
      ],
      "text/html": [
       "<div>\n",
       "<style scoped>\n",
       "    .dataframe tbody tr th:only-of-type {\n",
       "        vertical-align: middle;\n",
       "    }\n",
       "\n",
       "    .dataframe tbody tr th {\n",
       "        vertical-align: top;\n",
       "    }\n",
       "\n",
       "    .dataframe thead th {\n",
       "        text-align: right;\n",
       "    }\n",
       "</style>\n",
       "<table border=\"1\" class=\"dataframe\">\n",
       "  <thead>\n",
       "    <tr style=\"text-align: right;\">\n",
       "      <th></th>\n",
       "      <th>COUNTRY</th>\n",
       "      <th>YEAR</th>\n",
       "      <th>SAMPLE</th>\n",
       "      <th>SERIAL</th>\n",
       "      <th>HHWT</th>\n",
       "      <th>GEO1_BR2010</th>\n",
       "      <th>GEO2_BR2010</th>\n",
       "      <th>PERNUM</th>\n",
       "      <th>PERWT</th>\n",
       "      <th>AGE</th>\n",
       "      <th>AGE2</th>\n",
       "      <th>SEX</th>\n",
       "      <th>RACE</th>\n",
       "      <th>EDATTAIN</th>\n",
       "      <th>EDATTAIND</th>\n",
       "      <th>INCTOT</th>\n",
       "    </tr>\n",
       "  </thead>\n",
       "  <tbody>\n",
       "    <tr>\n",
       "      <th>11793814</th>\n",
       "      <td>76</td>\n",
       "      <td>2010</td>\n",
       "      <td>76201001</td>\n",
       "      <td>3367458000</td>\n",
       "      <td>7.68</td>\n",
       "      <td>33</td>\n",
       "      <td>33006</td>\n",
       "      <td>1</td>\n",
       "      <td>7.68</td>\n",
       "      <td>37</td>\n",
       "      <td>15</td>\n",
       "      <td>1</td>\n",
       "      <td>10</td>\n",
       "      <td>2</td>\n",
       "      <td>212</td>\n",
       "      <td>800</td>\n",
       "    </tr>\n",
       "    <tr>\n",
       "      <th>11793815</th>\n",
       "      <td>76</td>\n",
       "      <td>2010</td>\n",
       "      <td>76201001</td>\n",
       "      <td>3367458000</td>\n",
       "      <td>7.68</td>\n",
       "      <td>33</td>\n",
       "      <td>33006</td>\n",
       "      <td>2</td>\n",
       "      <td>7.68</td>\n",
       "      <td>41</td>\n",
       "      <td>16</td>\n",
       "      <td>2</td>\n",
       "      <td>10</td>\n",
       "      <td>2</td>\n",
       "      <td>212</td>\n",
       "      <td>510</td>\n",
       "    </tr>\n",
       "    <tr>\n",
       "      <th>11793816</th>\n",
       "      <td>76</td>\n",
       "      <td>2010</td>\n",
       "      <td>76201001</td>\n",
       "      <td>3367458000</td>\n",
       "      <td>7.68</td>\n",
       "      <td>33</td>\n",
       "      <td>33006</td>\n",
       "      <td>3</td>\n",
       "      <td>7.68</td>\n",
       "      <td>38</td>\n",
       "      <td>15</td>\n",
       "      <td>1</td>\n",
       "      <td>10</td>\n",
       "      <td>2</td>\n",
       "      <td>212</td>\n",
       "      <td>600</td>\n",
       "    </tr>\n",
       "    <tr>\n",
       "      <th>11793817</th>\n",
       "      <td>76</td>\n",
       "      <td>2010</td>\n",
       "      <td>76201001</td>\n",
       "      <td>3367458000</td>\n",
       "      <td>7.68</td>\n",
       "      <td>33</td>\n",
       "      <td>33006</td>\n",
       "      <td>4</td>\n",
       "      <td>7.68</td>\n",
       "      <td>39</td>\n",
       "      <td>15</td>\n",
       "      <td>1</td>\n",
       "      <td>10</td>\n",
       "      <td>2</td>\n",
       "      <td>212</td>\n",
       "      <td>950</td>\n",
       "    </tr>\n",
       "    <tr>\n",
       "      <th>11793818</th>\n",
       "      <td>76</td>\n",
       "      <td>2010</td>\n",
       "      <td>76201001</td>\n",
       "      <td>3367458000</td>\n",
       "      <td>7.68</td>\n",
       "      <td>33</td>\n",
       "      <td>33006</td>\n",
       "      <td>5</td>\n",
       "      <td>7.68</td>\n",
       "      <td>40</td>\n",
       "      <td>16</td>\n",
       "      <td>1</td>\n",
       "      <td>10</td>\n",
       "      <td>2</td>\n",
       "      <td>212</td>\n",
       "      <td>1200</td>\n",
       "    </tr>\n",
       "    <tr>\n",
       "      <th>...</th>\n",
       "      <td>...</td>\n",
       "      <td>...</td>\n",
       "      <td>...</td>\n",
       "      <td>...</td>\n",
       "      <td>...</td>\n",
       "      <td>...</td>\n",
       "      <td>...</td>\n",
       "      <td>...</td>\n",
       "      <td>...</td>\n",
       "      <td>...</td>\n",
       "      <td>...</td>\n",
       "      <td>...</td>\n",
       "      <td>...</td>\n",
       "      <td>...</td>\n",
       "      <td>...</td>\n",
       "      <td>...</td>\n",
       "    </tr>\n",
       "    <tr>\n",
       "      <th>11838069</th>\n",
       "      <td>76</td>\n",
       "      <td>2010</td>\n",
       "      <td>76201001</td>\n",
       "      <td>3381580000</td>\n",
       "      <td>9.75</td>\n",
       "      <td>33</td>\n",
       "      <td>33006</td>\n",
       "      <td>4</td>\n",
       "      <td>9.75</td>\n",
       "      <td>5</td>\n",
       "      <td>2</td>\n",
       "      <td>1</td>\n",
       "      <td>51</td>\n",
       "      <td>1</td>\n",
       "      <td>110</td>\n",
       "      <td>9999999</td>\n",
       "    </tr>\n",
       "    <tr>\n",
       "      <th>11838070</th>\n",
       "      <td>76</td>\n",
       "      <td>2010</td>\n",
       "      <td>76201001</td>\n",
       "      <td>3381580000</td>\n",
       "      <td>9.75</td>\n",
       "      <td>33</td>\n",
       "      <td>33006</td>\n",
       "      <td>5</td>\n",
       "      <td>9.75</td>\n",
       "      <td>25</td>\n",
       "      <td>13</td>\n",
       "      <td>2</td>\n",
       "      <td>20</td>\n",
       "      <td>1</td>\n",
       "      <td>120</td>\n",
       "      <td>200</td>\n",
       "    </tr>\n",
       "    <tr>\n",
       "      <th>11838071</th>\n",
       "      <td>76</td>\n",
       "      <td>2010</td>\n",
       "      <td>76201001</td>\n",
       "      <td>3381581000</td>\n",
       "      <td>11.15</td>\n",
       "      <td>33</td>\n",
       "      <td>33006</td>\n",
       "      <td>1</td>\n",
       "      <td>11.15</td>\n",
       "      <td>42</td>\n",
       "      <td>16</td>\n",
       "      <td>2</td>\n",
       "      <td>51</td>\n",
       "      <td>2</td>\n",
       "      <td>221</td>\n",
       "      <td>1530</td>\n",
       "    </tr>\n",
       "    <tr>\n",
       "      <th>11838072</th>\n",
       "      <td>76</td>\n",
       "      <td>2010</td>\n",
       "      <td>76201001</td>\n",
       "      <td>3381581000</td>\n",
       "      <td>11.15</td>\n",
       "      <td>33</td>\n",
       "      <td>33006</td>\n",
       "      <td>2</td>\n",
       "      <td>11.15</td>\n",
       "      <td>14</td>\n",
       "      <td>3</td>\n",
       "      <td>1</td>\n",
       "      <td>51</td>\n",
       "      <td>2</td>\n",
       "      <td>212</td>\n",
       "      <td>510</td>\n",
       "    </tr>\n",
       "    <tr>\n",
       "      <th>11838073</th>\n",
       "      <td>76</td>\n",
       "      <td>2010</td>\n",
       "      <td>76201001</td>\n",
       "      <td>3381582000</td>\n",
       "      <td>9.75</td>\n",
       "      <td>33</td>\n",
       "      <td>33006</td>\n",
       "      <td>1</td>\n",
       "      <td>9.75</td>\n",
       "      <td>69</td>\n",
       "      <td>21</td>\n",
       "      <td>2</td>\n",
       "      <td>51</td>\n",
       "      <td>1</td>\n",
       "      <td>120</td>\n",
       "      <td>510</td>\n",
       "    </tr>\n",
       "  </tbody>\n",
       "</table>\n",
       "<p>44260 rows × 16 columns</p>\n",
       "</div>"
      ]
     },
     "execution_count": 6,
     "metadata": {},
     "output_type": "execute_result"
    }
   ],
   "execution_count": 6
  },
  {
   "metadata": {
    "ExecuteTime": {
     "end_time": "2024-11-02T23:33:00.869385Z",
     "start_time": "2024-11-02T23:33:00.863553Z"
    }
   },
   "cell_type": "code",
   "source": [
    "contagem_idades = df_sao_joao['AGE2'].value_counts()\n",
    "contagem_idades"
   ],
   "id": "218e34036fb44666",
   "outputs": [
    {
     "data": {
      "text/plain": [
       "AGE2\n",
       "3     3929\n",
       "4     3725\n",
       "13    3641\n",
       "12    3586\n",
       "14    3584\n",
       "2     3305\n",
       "15    3227\n",
       "16    3136\n",
       "17    2993\n",
       "1     2991\n",
       "18    2831\n",
       "19    2184\n",
       "20    1794\n",
       "21    1207\n",
       "22     946\n",
       "23     600\n",
       "24     339\n",
       "25     242\n",
       "Name: count, dtype: int64"
      ]
     },
     "execution_count": 7,
     "metadata": {},
     "output_type": "execute_result"
    }
   ],
   "execution_count": 7
  },
  {
   "metadata": {
    "ExecuteTime": {
     "end_time": "2024-11-02T23:33:01.006972Z",
     "start_time": "2024-11-02T23:33:01.004454Z"
    }
   },
   "cell_type": "code",
   "source": "idade_dependente_crianca = [1,2,3,4]",
   "id": "5c5c93d588e9eeb1",
   "outputs": [],
   "execution_count": 8
  },
  {
   "metadata": {
    "ExecuteTime": {
     "end_time": "2024-11-02T23:33:01.144127Z",
     "start_time": "2024-11-02T23:33:01.140243Z"
    }
   },
   "cell_type": "code",
   "source": [
    "soma_idade_dependente_crianca = contagem_idades[contagem_idades.index.isin(idade_dependente_crianca)].sum()\n",
    "soma_idade_dependente_crianca"
   ],
   "id": "1f92092aca30c5c",
   "outputs": [
    {
     "data": {
      "text/plain": [
       "np.int64(13950)"
      ]
     },
     "execution_count": 9,
     "metadata": {},
     "output_type": "execute_result"
    }
   ],
   "execution_count": 9
  },
  {
   "metadata": {
    "ExecuteTime": {
     "end_time": "2024-11-02T23:33:01.296924Z",
     "start_time": "2024-11-02T23:33:01.294139Z"
    }
   },
   "cell_type": "code",
   "source": "idade_dependente_idoso = [21,22,23,24]",
   "id": "5e61e433ed81ed06",
   "outputs": [],
   "execution_count": 10
  },
  {
   "metadata": {
    "ExecuteTime": {
     "end_time": "2024-11-02T23:33:01.319753Z",
     "start_time": "2024-11-02T23:33:01.315778Z"
    }
   },
   "cell_type": "code",
   "source": [
    "soma_idade_dependente_idoso = contagem_idades[contagem_idades.index.isin(idade_dependente_idoso)].sum()\n",
    "soma_idade_dependente_idoso"
   ],
   "id": "5eacb3ee16b001ea",
   "outputs": [
    {
     "data": {
      "text/plain": [
       "np.int64(3092)"
      ]
     },
     "execution_count": 11,
     "metadata": {},
     "output_type": "execute_result"
    }
   ],
   "execution_count": 11
  },
  {
   "metadata": {
    "ExecuteTime": {
     "end_time": "2024-11-02T23:33:01.474790Z",
     "start_time": "2024-11-02T23:33:01.471195Z"
    }
   },
   "cell_type": "code",
   "source": [
    "idade_produtiva = soma_idade_total - soma_idade_dependente_crianca + soma_idade_dependente_idoso\n",
    "idade_produtiva"
   ],
   "id": "92365c151a8dea26",
   "outputs": [
    {
     "data": {
      "text/plain": [
       "np.int64(33402)"
      ]
     },
     "execution_count": 13,
     "metadata": {},
     "output_type": "execute_result"
    }
   ],
   "execution_count": 13
  },
  {
   "metadata": {
    "ExecuteTime": {
     "end_time": "2024-11-02T23:33:01.550526Z",
     "start_time": "2024-11-02T23:33:01.547274Z"
    }
   },
   "cell_type": "code",
   "source": [
    "razao_de_suporte = idade_produtiva / (soma_idade_dependente_crianca + soma_idade_dependente_idoso)\n",
    "razao_de_suporte"
   ],
   "id": "961efaa8cbd701ef",
   "outputs": [
    {
     "data": {
      "text/plain": [
       "np.float64(1.9599812228611666)"
      ]
     },
     "execution_count": 14,
     "metadata": {},
     "output_type": "execute_result"
    }
   ],
   "execution_count": 14
  }
 ],
 "metadata": {
  "kernelspec": {
   "display_name": "Python 3",
   "language": "python",
   "name": "python3"
  },
  "language_info": {
   "codemirror_mode": {
    "name": "ipython",
    "version": 2
   },
   "file_extension": ".py",
   "mimetype": "text/x-python",
   "name": "python",
   "nbconvert_exporter": "python",
   "pygments_lexer": "ipython2",
   "version": "2.7.6"
  }
 },
 "nbformat": 4,
 "nbformat_minor": 5
}
