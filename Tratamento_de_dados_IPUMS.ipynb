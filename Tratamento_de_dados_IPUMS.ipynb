{
 "cells": [
  {
   "cell_type": "code",
   "id": "initial_id",
   "metadata": {
    "collapsed": true,
    "ExecuteTime": {
     "end_time": "2024-10-23T19:31:01.032080Z",
     "start_time": "2024-10-23T19:31:01.029012Z"
    }
   },
   "source": [
    "import pandas as pd\n",
    "from pandas import DataFrame\n",
    "import matplotlib.pyplot as plt\n",
    "from matplotlib.ticker import FuncFormatter\n",
    "import moviepy.editor as mp"
   ],
   "outputs": [],
   "execution_count": 2
  },
  {
   "metadata": {
    "ExecuteTime": {
     "end_time": "2024-10-23T19:31:11.524948Z",
     "start_time": "2024-10-23T19:31:01.986287Z"
    }
   },
   "cell_type": "code",
   "source": "df_censo_2010: DataFrame = pd.read_csv(\"C:\\\\Users\\\\gisel\\\\Documents\\\\ipumsi_00003.csv\")",
   "id": "5111380902347d5b",
   "outputs": [],
   "execution_count": 3
  },
  {
   "metadata": {
    "ExecuteTime": {
     "end_time": "2024-10-23T19:31:12.927333Z",
     "start_time": "2024-10-23T19:31:11.530957Z"
    }
   },
   "cell_type": "code",
   "source": "df_censo_2010",
   "id": "dd4afd9abbdbc484",
   "outputs": [
    {
     "data": {
      "text/plain": [
       "          COUNTRY  YEAR    SAMPLE      SERIAL   HHWT  GEO1_BR2010  \\\n",
       "0              76  2010  76201001        1000   8.71           11   \n",
       "1              76  2010  76201001        1000   8.71           11   \n",
       "2              76  2010  76201001        2000   9.82           11   \n",
       "3              76  2010  76201001        3000   9.50           11   \n",
       "4              76  2010  76201001        3000   9.50           11   \n",
       "...           ...   ...       ...         ...    ...          ...   \n",
       "20635467       76  2010  76201001  6192502000  27.54           53   \n",
       "20635468       76  2010  76201001  6192502000  27.54           53   \n",
       "20635469       76  2010  76201001  6192502000  27.54           53   \n",
       "20635470       76  2010  76201001  6192502000  27.54           53   \n",
       "20635471       76  2010  76201001  6192502000  27.54           53   \n",
       "\n",
       "          GEO2_BR2010  PERNUM  PERWT  AGE  AGE2  SEX  \n",
       "0               11022       1   8.71   22    12    1  \n",
       "1               11022       2   8.71   17     4    2  \n",
       "2               11022       1   9.82   38    15    1  \n",
       "3               11022       1   9.50   54    18    1  \n",
       "4               11022       2   9.50   44    16    2  \n",
       "...               ...     ...    ...  ...   ...  ...  \n",
       "20635467        53001       4  27.54   34    14    2  \n",
       "20635468        53001       5  27.54   13     3    1  \n",
       "20635469        53001       6  27.54   12     3    2  \n",
       "20635470        53001       7  27.54   66    21    1  \n",
       "20635471        53001       8  27.54    6     2    2  \n",
       "\n",
       "[20635472 rows x 12 columns]"
      ],
      "text/html": [
       "<div>\n",
       "<style scoped>\n",
       "    .dataframe tbody tr th:only-of-type {\n",
       "        vertical-align: middle;\n",
       "    }\n",
       "\n",
       "    .dataframe tbody tr th {\n",
       "        vertical-align: top;\n",
       "    }\n",
       "\n",
       "    .dataframe thead th {\n",
       "        text-align: right;\n",
       "    }\n",
       "</style>\n",
       "<table border=\"1\" class=\"dataframe\">\n",
       "  <thead>\n",
       "    <tr style=\"text-align: right;\">\n",
       "      <th></th>\n",
       "      <th>COUNTRY</th>\n",
       "      <th>YEAR</th>\n",
       "      <th>SAMPLE</th>\n",
       "      <th>SERIAL</th>\n",
       "      <th>HHWT</th>\n",
       "      <th>GEO1_BR2010</th>\n",
       "      <th>GEO2_BR2010</th>\n",
       "      <th>PERNUM</th>\n",
       "      <th>PERWT</th>\n",
       "      <th>AGE</th>\n",
       "      <th>AGE2</th>\n",
       "      <th>SEX</th>\n",
       "    </tr>\n",
       "  </thead>\n",
       "  <tbody>\n",
       "    <tr>\n",
       "      <th>0</th>\n",
       "      <td>76</td>\n",
       "      <td>2010</td>\n",
       "      <td>76201001</td>\n",
       "      <td>1000</td>\n",
       "      <td>8.71</td>\n",
       "      <td>11</td>\n",
       "      <td>11022</td>\n",
       "      <td>1</td>\n",
       "      <td>8.71</td>\n",
       "      <td>22</td>\n",
       "      <td>12</td>\n",
       "      <td>1</td>\n",
       "    </tr>\n",
       "    <tr>\n",
       "      <th>1</th>\n",
       "      <td>76</td>\n",
       "      <td>2010</td>\n",
       "      <td>76201001</td>\n",
       "      <td>1000</td>\n",
       "      <td>8.71</td>\n",
       "      <td>11</td>\n",
       "      <td>11022</td>\n",
       "      <td>2</td>\n",
       "      <td>8.71</td>\n",
       "      <td>17</td>\n",
       "      <td>4</td>\n",
       "      <td>2</td>\n",
       "    </tr>\n",
       "    <tr>\n",
       "      <th>2</th>\n",
       "      <td>76</td>\n",
       "      <td>2010</td>\n",
       "      <td>76201001</td>\n",
       "      <td>2000</td>\n",
       "      <td>9.82</td>\n",
       "      <td>11</td>\n",
       "      <td>11022</td>\n",
       "      <td>1</td>\n",
       "      <td>9.82</td>\n",
       "      <td>38</td>\n",
       "      <td>15</td>\n",
       "      <td>1</td>\n",
       "    </tr>\n",
       "    <tr>\n",
       "      <th>3</th>\n",
       "      <td>76</td>\n",
       "      <td>2010</td>\n",
       "      <td>76201001</td>\n",
       "      <td>3000</td>\n",
       "      <td>9.50</td>\n",
       "      <td>11</td>\n",
       "      <td>11022</td>\n",
       "      <td>1</td>\n",
       "      <td>9.50</td>\n",
       "      <td>54</td>\n",
       "      <td>18</td>\n",
       "      <td>1</td>\n",
       "    </tr>\n",
       "    <tr>\n",
       "      <th>4</th>\n",
       "      <td>76</td>\n",
       "      <td>2010</td>\n",
       "      <td>76201001</td>\n",
       "      <td>3000</td>\n",
       "      <td>9.50</td>\n",
       "      <td>11</td>\n",
       "      <td>11022</td>\n",
       "      <td>2</td>\n",
       "      <td>9.50</td>\n",
       "      <td>44</td>\n",
       "      <td>16</td>\n",
       "      <td>2</td>\n",
       "    </tr>\n",
       "    <tr>\n",
       "      <th>...</th>\n",
       "      <td>...</td>\n",
       "      <td>...</td>\n",
       "      <td>...</td>\n",
       "      <td>...</td>\n",
       "      <td>...</td>\n",
       "      <td>...</td>\n",
       "      <td>...</td>\n",
       "      <td>...</td>\n",
       "      <td>...</td>\n",
       "      <td>...</td>\n",
       "      <td>...</td>\n",
       "      <td>...</td>\n",
       "    </tr>\n",
       "    <tr>\n",
       "      <th>20635467</th>\n",
       "      <td>76</td>\n",
       "      <td>2010</td>\n",
       "      <td>76201001</td>\n",
       "      <td>6192502000</td>\n",
       "      <td>27.54</td>\n",
       "      <td>53</td>\n",
       "      <td>53001</td>\n",
       "      <td>4</td>\n",
       "      <td>27.54</td>\n",
       "      <td>34</td>\n",
       "      <td>14</td>\n",
       "      <td>2</td>\n",
       "    </tr>\n",
       "    <tr>\n",
       "      <th>20635468</th>\n",
       "      <td>76</td>\n",
       "      <td>2010</td>\n",
       "      <td>76201001</td>\n",
       "      <td>6192502000</td>\n",
       "      <td>27.54</td>\n",
       "      <td>53</td>\n",
       "      <td>53001</td>\n",
       "      <td>5</td>\n",
       "      <td>27.54</td>\n",
       "      <td>13</td>\n",
       "      <td>3</td>\n",
       "      <td>1</td>\n",
       "    </tr>\n",
       "    <tr>\n",
       "      <th>20635469</th>\n",
       "      <td>76</td>\n",
       "      <td>2010</td>\n",
       "      <td>76201001</td>\n",
       "      <td>6192502000</td>\n",
       "      <td>27.54</td>\n",
       "      <td>53</td>\n",
       "      <td>53001</td>\n",
       "      <td>6</td>\n",
       "      <td>27.54</td>\n",
       "      <td>12</td>\n",
       "      <td>3</td>\n",
       "      <td>2</td>\n",
       "    </tr>\n",
       "    <tr>\n",
       "      <th>20635470</th>\n",
       "      <td>76</td>\n",
       "      <td>2010</td>\n",
       "      <td>76201001</td>\n",
       "      <td>6192502000</td>\n",
       "      <td>27.54</td>\n",
       "      <td>53</td>\n",
       "      <td>53001</td>\n",
       "      <td>7</td>\n",
       "      <td>27.54</td>\n",
       "      <td>66</td>\n",
       "      <td>21</td>\n",
       "      <td>1</td>\n",
       "    </tr>\n",
       "    <tr>\n",
       "      <th>20635471</th>\n",
       "      <td>76</td>\n",
       "      <td>2010</td>\n",
       "      <td>76201001</td>\n",
       "      <td>6192502000</td>\n",
       "      <td>27.54</td>\n",
       "      <td>53</td>\n",
       "      <td>53001</td>\n",
       "      <td>8</td>\n",
       "      <td>27.54</td>\n",
       "      <td>6</td>\n",
       "      <td>2</td>\n",
       "      <td>2</td>\n",
       "    </tr>\n",
       "  </tbody>\n",
       "</table>\n",
       "<p>20635472 rows × 12 columns</p>\n",
       "</div>"
      ]
     },
     "execution_count": 4,
     "metadata": {},
     "output_type": "execute_result"
    }
   ],
   "execution_count": 4
  },
  {
   "metadata": {
    "ExecuteTime": {
     "end_time": "2024-10-23T19:31:36.197897Z",
     "start_time": "2024-10-23T19:31:35.874496Z"
    }
   },
   "cell_type": "code",
   "source": "df_censo_2010.isnull().sum()",
   "id": "faf20b60c49ac66e",
   "outputs": [
    {
     "data": {
      "text/plain": [
       "COUNTRY        0\n",
       "YEAR           0\n",
       "SAMPLE         0\n",
       "SERIAL         0\n",
       "HHWT           0\n",
       "GEO1_BR2010    0\n",
       "GEO2_BR2010    0\n",
       "PERNUM         0\n",
       "PERWT          0\n",
       "AGE            0\n",
       "AGE2           0\n",
       "SEX            0\n",
       "dtype: int64"
      ]
     },
     "execution_count": 5,
     "metadata": {},
     "output_type": "execute_result"
    }
   ],
   "execution_count": 5
  },
  {
   "metadata": {},
   "cell_type": "markdown",
   "source": "Data Frame São joão de Meriti",
   "id": "cacd47513fe2a73c"
  },
  {
   "metadata": {
    "ExecuteTime": {
     "end_time": "2024-10-23T19:42:37.909347Z",
     "start_time": "2024-10-23T19:42:37.907124Z"
    }
   },
   "cell_type": "code",
   "source": "numero_sao_joao = 33006",
   "id": "7ab1ba8d15e744a9",
   "outputs": [],
   "execution_count": 8
  },
  {
   "metadata": {
    "ExecuteTime": {
     "end_time": "2024-10-23T19:52:36.907275Z",
     "start_time": "2024-10-23T19:52:36.877240Z"
    }
   },
   "cell_type": "code",
   "source": [
    "df_sao_joao = df_censo_2010[df_censo_2010['GEO2_BR2010'] == numero_sao_joao]\n",
    "df_sao_joao"
   ],
   "id": "8030deb101beb617",
   "outputs": [
    {
     "data": {
      "text/plain": [
       "          COUNTRY  YEAR    SAMPLE      SERIAL   HHWT  GEO1_BR2010  \\\n",
       "11793814       76  2010  76201001  3367458000   7.68           33   \n",
       "11793815       76  2010  76201001  3367458000   7.68           33   \n",
       "11793816       76  2010  76201001  3367458000   7.68           33   \n",
       "11793817       76  2010  76201001  3367458000   7.68           33   \n",
       "11793818       76  2010  76201001  3367458000   7.68           33   \n",
       "...           ...   ...       ...         ...    ...          ...   \n",
       "11838069       76  2010  76201001  3381580000   9.75           33   \n",
       "11838070       76  2010  76201001  3381580000   9.75           33   \n",
       "11838071       76  2010  76201001  3381581000  11.15           33   \n",
       "11838072       76  2010  76201001  3381581000  11.15           33   \n",
       "11838073       76  2010  76201001  3381582000   9.75           33   \n",
       "\n",
       "          GEO2_BR2010  PERNUM  PERWT  AGE  AGE2  SEX  \n",
       "11793814        33006       1   7.68   37    15    1  \n",
       "11793815        33006       2   7.68   41    16    2  \n",
       "11793816        33006       3   7.68   38    15    1  \n",
       "11793817        33006       4   7.68   39    15    1  \n",
       "11793818        33006       5   7.68   40    16    1  \n",
       "...               ...     ...    ...  ...   ...  ...  \n",
       "11838069        33006       4   9.75    5     2    1  \n",
       "11838070        33006       5   9.75   25    13    2  \n",
       "11838071        33006       1  11.15   42    16    2  \n",
       "11838072        33006       2  11.15   14     3    1  \n",
       "11838073        33006       1   9.75   69    21    2  \n",
       "\n",
       "[44260 rows x 12 columns]"
      ],
      "text/html": [
       "<div>\n",
       "<style scoped>\n",
       "    .dataframe tbody tr th:only-of-type {\n",
       "        vertical-align: middle;\n",
       "    }\n",
       "\n",
       "    .dataframe tbody tr th {\n",
       "        vertical-align: top;\n",
       "    }\n",
       "\n",
       "    .dataframe thead th {\n",
       "        text-align: right;\n",
       "    }\n",
       "</style>\n",
       "<table border=\"1\" class=\"dataframe\">\n",
       "  <thead>\n",
       "    <tr style=\"text-align: right;\">\n",
       "      <th></th>\n",
       "      <th>COUNTRY</th>\n",
       "      <th>YEAR</th>\n",
       "      <th>SAMPLE</th>\n",
       "      <th>SERIAL</th>\n",
       "      <th>HHWT</th>\n",
       "      <th>GEO1_BR2010</th>\n",
       "      <th>GEO2_BR2010</th>\n",
       "      <th>PERNUM</th>\n",
       "      <th>PERWT</th>\n",
       "      <th>AGE</th>\n",
       "      <th>AGE2</th>\n",
       "      <th>SEX</th>\n",
       "    </tr>\n",
       "  </thead>\n",
       "  <tbody>\n",
       "    <tr>\n",
       "      <th>11793814</th>\n",
       "      <td>76</td>\n",
       "      <td>2010</td>\n",
       "      <td>76201001</td>\n",
       "      <td>3367458000</td>\n",
       "      <td>7.68</td>\n",
       "      <td>33</td>\n",
       "      <td>33006</td>\n",
       "      <td>1</td>\n",
       "      <td>7.68</td>\n",
       "      <td>37</td>\n",
       "      <td>15</td>\n",
       "      <td>1</td>\n",
       "    </tr>\n",
       "    <tr>\n",
       "      <th>11793815</th>\n",
       "      <td>76</td>\n",
       "      <td>2010</td>\n",
       "      <td>76201001</td>\n",
       "      <td>3367458000</td>\n",
       "      <td>7.68</td>\n",
       "      <td>33</td>\n",
       "      <td>33006</td>\n",
       "      <td>2</td>\n",
       "      <td>7.68</td>\n",
       "      <td>41</td>\n",
       "      <td>16</td>\n",
       "      <td>2</td>\n",
       "    </tr>\n",
       "    <tr>\n",
       "      <th>11793816</th>\n",
       "      <td>76</td>\n",
       "      <td>2010</td>\n",
       "      <td>76201001</td>\n",
       "      <td>3367458000</td>\n",
       "      <td>7.68</td>\n",
       "      <td>33</td>\n",
       "      <td>33006</td>\n",
       "      <td>3</td>\n",
       "      <td>7.68</td>\n",
       "      <td>38</td>\n",
       "      <td>15</td>\n",
       "      <td>1</td>\n",
       "    </tr>\n",
       "    <tr>\n",
       "      <th>11793817</th>\n",
       "      <td>76</td>\n",
       "      <td>2010</td>\n",
       "      <td>76201001</td>\n",
       "      <td>3367458000</td>\n",
       "      <td>7.68</td>\n",
       "      <td>33</td>\n",
       "      <td>33006</td>\n",
       "      <td>4</td>\n",
       "      <td>7.68</td>\n",
       "      <td>39</td>\n",
       "      <td>15</td>\n",
       "      <td>1</td>\n",
       "    </tr>\n",
       "    <tr>\n",
       "      <th>11793818</th>\n",
       "      <td>76</td>\n",
       "      <td>2010</td>\n",
       "      <td>76201001</td>\n",
       "      <td>3367458000</td>\n",
       "      <td>7.68</td>\n",
       "      <td>33</td>\n",
       "      <td>33006</td>\n",
       "      <td>5</td>\n",
       "      <td>7.68</td>\n",
       "      <td>40</td>\n",
       "      <td>16</td>\n",
       "      <td>1</td>\n",
       "    </tr>\n",
       "    <tr>\n",
       "      <th>...</th>\n",
       "      <td>...</td>\n",
       "      <td>...</td>\n",
       "      <td>...</td>\n",
       "      <td>...</td>\n",
       "      <td>...</td>\n",
       "      <td>...</td>\n",
       "      <td>...</td>\n",
       "      <td>...</td>\n",
       "      <td>...</td>\n",
       "      <td>...</td>\n",
       "      <td>...</td>\n",
       "      <td>...</td>\n",
       "    </tr>\n",
       "    <tr>\n",
       "      <th>11838069</th>\n",
       "      <td>76</td>\n",
       "      <td>2010</td>\n",
       "      <td>76201001</td>\n",
       "      <td>3381580000</td>\n",
       "      <td>9.75</td>\n",
       "      <td>33</td>\n",
       "      <td>33006</td>\n",
       "      <td>4</td>\n",
       "      <td>9.75</td>\n",
       "      <td>5</td>\n",
       "      <td>2</td>\n",
       "      <td>1</td>\n",
       "    </tr>\n",
       "    <tr>\n",
       "      <th>11838070</th>\n",
       "      <td>76</td>\n",
       "      <td>2010</td>\n",
       "      <td>76201001</td>\n",
       "      <td>3381580000</td>\n",
       "      <td>9.75</td>\n",
       "      <td>33</td>\n",
       "      <td>33006</td>\n",
       "      <td>5</td>\n",
       "      <td>9.75</td>\n",
       "      <td>25</td>\n",
       "      <td>13</td>\n",
       "      <td>2</td>\n",
       "    </tr>\n",
       "    <tr>\n",
       "      <th>11838071</th>\n",
       "      <td>76</td>\n",
       "      <td>2010</td>\n",
       "      <td>76201001</td>\n",
       "      <td>3381581000</td>\n",
       "      <td>11.15</td>\n",
       "      <td>33</td>\n",
       "      <td>33006</td>\n",
       "      <td>1</td>\n",
       "      <td>11.15</td>\n",
       "      <td>42</td>\n",
       "      <td>16</td>\n",
       "      <td>2</td>\n",
       "    </tr>\n",
       "    <tr>\n",
       "      <th>11838072</th>\n",
       "      <td>76</td>\n",
       "      <td>2010</td>\n",
       "      <td>76201001</td>\n",
       "      <td>3381581000</td>\n",
       "      <td>11.15</td>\n",
       "      <td>33</td>\n",
       "      <td>33006</td>\n",
       "      <td>2</td>\n",
       "      <td>11.15</td>\n",
       "      <td>14</td>\n",
       "      <td>3</td>\n",
       "      <td>1</td>\n",
       "    </tr>\n",
       "    <tr>\n",
       "      <th>11838073</th>\n",
       "      <td>76</td>\n",
       "      <td>2010</td>\n",
       "      <td>76201001</td>\n",
       "      <td>3381582000</td>\n",
       "      <td>9.75</td>\n",
       "      <td>33</td>\n",
       "      <td>33006</td>\n",
       "      <td>1</td>\n",
       "      <td>9.75</td>\n",
       "      <td>69</td>\n",
       "      <td>21</td>\n",
       "      <td>2</td>\n",
       "    </tr>\n",
       "  </tbody>\n",
       "</table>\n",
       "<p>44260 rows × 12 columns</p>\n",
       "</div>"
      ]
     },
     "execution_count": 19,
     "metadata": {},
     "output_type": "execute_result"
    }
   ],
   "execution_count": 19
  },
  {
   "metadata": {
    "ExecuteTime": {
     "end_time": "2024-10-23T20:16:07.748471Z",
     "start_time": "2024-10-23T20:16:07.744949Z"
    }
   },
   "cell_type": "code",
   "source": [
    "contagem_idades = df_sao_joao['AGE2'].value_counts()\n",
    "contagem_idades"
   ],
   "id": "218e34036fb44666",
   "outputs": [
    {
     "data": {
      "text/plain": [
       "AGE2\n",
       "3     3929\n",
       "4     3725\n",
       "13    3641\n",
       "12    3586\n",
       "14    3584\n",
       "2     3305\n",
       "15    3227\n",
       "16    3136\n",
       "17    2993\n",
       "1     2991\n",
       "18    2831\n",
       "19    2184\n",
       "20    1794\n",
       "21    1207\n",
       "22     946\n",
       "23     600\n",
       "24     339\n",
       "25     242\n",
       "Name: count, dtype: int64"
      ]
     },
     "execution_count": 25,
     "metadata": {},
     "output_type": "execute_result"
    }
   ],
   "execution_count": 25
  },
  {
   "metadata": {
    "ExecuteTime": {
     "end_time": "2024-10-23T20:21:59.796Z",
     "start_time": "2024-10-23T20:21:59.793118Z"
    }
   },
   "cell_type": "code",
   "source": "idade_dependente_crianca = [1,2,3,4]",
   "id": "5c5c93d588e9eeb1",
   "outputs": [],
   "execution_count": 26
  },
  {
   "metadata": {
    "ExecuteTime": {
     "end_time": "2024-10-23T20:23:24.684251Z",
     "start_time": "2024-10-23T20:23:24.679256Z"
    }
   },
   "cell_type": "code",
   "source": [
    "soma_idade_dependente_crianca = contagem_idades[contagem_idades.index.isin(idade_dependente_crianca)].sum()\n",
    "soma_idade_dependente_crianca"
   ],
   "id": "1f92092aca30c5c",
   "outputs": [
    {
     "data": {
      "text/plain": [
       "np.int64(13950)"
      ]
     },
     "execution_count": 29,
     "metadata": {},
     "output_type": "execute_result"
    }
   ],
   "execution_count": 29
  },
  {
   "metadata": {
    "ExecuteTime": {
     "end_time": "2024-10-23T23:47:44.271574Z",
     "start_time": "2024-10-23T23:47:44.268438Z"
    }
   },
   "cell_type": "code",
   "source": "idade_dependente_idoso = [21,22,23,24]",
   "id": "5e61e433ed81ed06",
   "outputs": [],
   "execution_count": 32
  },
  {
   "metadata": {
    "ExecuteTime": {
     "end_time": "2024-10-23T23:48:09.022023Z",
     "start_time": "2024-10-23T23:48:09.018268Z"
    }
   },
   "cell_type": "code",
   "source": [
    "soma_idade_dependente_idoso = contagem_idades[contagem_idades.index.isin(idade_dependente_idoso)].sum()\n",
    "soma_idade_dependente_idoso"
   ],
   "id": "5eacb3ee16b001ea",
   "outputs": [
    {
     "data": {
      "text/plain": [
       "np.int64(3092)"
      ]
     },
     "execution_count": 33,
     "metadata": {},
     "output_type": "execute_result"
    }
   ],
   "execution_count": 33
  },
  {
   "metadata": {
    "ExecuteTime": {
     "end_time": "2024-10-23T23:48:55.374428Z",
     "start_time": "2024-10-23T23:48:55.370789Z"
    }
   },
   "cell_type": "code",
   "source": [
    "soma_idade_total = contagem_idades.sum()\n",
    "soma_idade_total"
   ],
   "id": "997ba2bea162083b",
   "outputs": [
    {
     "data": {
      "text/plain": [
       "np.int64(44260)"
      ]
     },
     "execution_count": 34,
     "metadata": {},
     "output_type": "execute_result"
    }
   ],
   "execution_count": 34
  },
  {
   "metadata": {
    "ExecuteTime": {
     "end_time": "2024-10-23T23:51:00.541597Z",
     "start_time": "2024-10-23T23:51:00.537977Z"
    }
   },
   "cell_type": "code",
   "source": [
    "idade_produtiva = soma_idade_total - soma_idade_dependente_crianca + soma_idade_dependente_idoso\n",
    "idade_produtiva"
   ],
   "id": "92365c151a8dea26",
   "outputs": [
    {
     "data": {
      "text/plain": [
       "np.int64(33402)"
      ]
     },
     "execution_count": 36,
     "metadata": {},
     "output_type": "execute_result"
    }
   ],
   "execution_count": 36
  },
  {
   "metadata": {
    "ExecuteTime": {
     "end_time": "2024-10-23T23:51:39.259120Z",
     "start_time": "2024-10-23T23:51:39.255926Z"
    }
   },
   "cell_type": "code",
   "source": [
    "razao_de_suporte = idade_produtiva / (soma_idade_dependente_crianca + soma_idade_dependente_idoso)\n",
    "razao_de_suporte"
   ],
   "id": "961efaa8cbd701ef",
   "outputs": [
    {
     "data": {
      "text/plain": [
       "np.float64(1.9599812228611666)"
      ]
     },
     "execution_count": 38,
     "metadata": {},
     "output_type": "execute_result"
    }
   ],
   "execution_count": 38
  }
 ],
 "metadata": {
  "kernelspec": {
   "display_name": "Python 3",
   "language": "python",
   "name": "python3"
  },
  "language_info": {
   "codemirror_mode": {
    "name": "ipython",
    "version": 2
   },
   "file_extension": ".py",
   "mimetype": "text/x-python",
   "name": "python",
   "nbconvert_exporter": "python",
   "pygments_lexer": "ipython2",
   "version": "2.7.6"
  }
 },
 "nbformat": 4,
 "nbformat_minor": 5
}
